{
 "cells": [
  {
   "cell_type": "code",
   "execution_count": 1,
   "id": "98db51fe",
   "metadata": {},
   "outputs": [
    {
     "name": "stdout",
     "output_type": "stream",
     "text": [
      "enter the starting number for range:0\n",
      "enter the starting number for range:50\n",
      "fib0nacci series between 0 to 50 is:\n",
      "0\n",
      "1\n",
      "1\n",
      "2\n",
      "3\n",
      "5\n",
      "8\n",
      "13\n",
      "21\n",
      "34\n"
     ]
    }
   ],
   "source": [
    "\n",
    "start=int(input(\"enter the starting number for range:\"))\n",
    "end=int(input(\"enter the starting number for range:\"))\n",
    "a=0\n",
    "b=1\n",
    "sum=0\n",
    "print(\"fib0nacci series between\",start,\"to\",end,\"is:\")\n",
    "while(sum<end):\n",
    "    a=b\n",
    "    b=sum\n",
    "    sum=a+b\n",
    "    print(b)\n",
    "print(end=\"\")\n"
   ]
  },
  {
   "cell_type": "code",
   "execution_count": null,
   "id": "53b05e75",
   "metadata": {},
   "outputs": [],
   "source": []
  }
 ],
 "metadata": {
  "kernelspec": {
   "display_name": "Python 3 (ipykernel)",
   "language": "python",
   "name": "python3"
  },
  "language_info": {
   "codemirror_mode": {
    "name": "ipython",
    "version": 3
   },
   "file_extension": ".py",
   "mimetype": "text/x-python",
   "name": "python",
   "nbconvert_exporter": "python",
   "pygments_lexer": "ipython3",
   "version": "3.11.4"
  }
 },
 "nbformat": 4,
 "nbformat_minor": 5
}
