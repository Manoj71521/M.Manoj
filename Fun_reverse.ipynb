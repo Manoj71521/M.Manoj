{
 "cells": [
  {
   "cell_type": "code",
   "execution_count": 7,
   "id": "dab63796",
   "metadata": {},
   "outputs": [
    {
     "name": "stdout",
     "output_type": "stream",
     "text": [
      "dcba4321\n"
     ]
    }
   ],
   "source": [
    "def string(str1):\n",
    "\n",
    "    qwrd1 = ''\n",
    "    index = len(str1)\n",
    "    while index > 0:\n",
    "        qwrd1 += str1[ index - 1 ]\n",
    "        index = index - 1\n",
    "    return qwrd1\n",
    "print(string('1234abcd'))"
   ]
  }
 ],
 "metadata": {
  "kernelspec": {
   "display_name": "Python 3 (ipykernel)",
   "language": "python",
   "name": "python3"
  },
  "language_info": {
   "codemirror_mode": {
    "name": "ipython",
    "version": 3
   },
   "file_extension": ".py",
   "mimetype": "text/x-python",
   "name": "python",
   "nbconvert_exporter": "python",
   "pygments_lexer": "ipython3",
   "version": "3.10.9"
  }
 },
 "nbformat": 4,
 "nbformat_minor": 5
}
