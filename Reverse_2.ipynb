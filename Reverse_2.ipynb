{
 "cells": [
  {
   "cell_type": "code",
   "execution_count": 2,
   "id": "1f52c96f",
   "metadata": {},
   "outputs": [
    {
     "name": "stdout",
     "output_type": "stream",
     "text": [
      "enter a word is:edyoda\n",
      "the original word is: edyoda\n",
      "the reverse word is: adoyde \n"
     ]
    }
   ],
   "source": [
    "# Write a Python program that accepts a word from the user and reverse it\n",
    "\n",
    "a=input(\"enter a word is:\")\n",
    "b=\" \"\n",
    "for i in a:\n",
    "    b=i+b\n",
    "print(\"the original word is:\",a)\n",
    "print(\"the reverse word is:\",b)"
   ]
  },
  {
   "cell_type": "code",
   "execution_count": null,
   "id": "987d120c",
   "metadata": {},
   "outputs": [],
   "source": []
  }
 ],
 "metadata": {
  "kernelspec": {
   "display_name": "Python 3 (ipykernel)",
   "language": "python",
   "name": "python3"
  },
  "language_info": {
   "codemirror_mode": {
    "name": "ipython",
    "version": 3
   },
   "file_extension": ".py",
   "mimetype": "text/x-python",
   "name": "python",
   "nbconvert_exporter": "python",
   "pygments_lexer": "ipython3",
   "version": "3.11.4"
  }
 },
 "nbformat": 4,
 "nbformat_minor": 5
}
