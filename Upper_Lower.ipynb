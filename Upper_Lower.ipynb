{
 "cells": [
  {
   "cell_type": "code",
   "execution_count": 1,
   "id": "8276e3ef",
   "metadata": {},
   "outputs": [
    {
     "name": "stdout",
     "output_type": "stream",
     "text": [
      "No.of lower case characters: 3\n",
      "No.of upper case characters: 12\n"
     ]
    }
   ],
   "source": [
    "s=\"The quick Brow Fox\"\n",
    "u,l=0,0\n",
    "for i in s:\n",
    "    if (i>='a' and i<='z'):\n",
    "        u+=1\n",
    "    if (i>='A' and i<='Z'):\n",
    "        l+=1\n",
    "print('No.of lower case characters:',l)\n",
    "print('No.of upper case characters:',u)\n",
    "    "
   ]
  },
  {
   "cell_type": "code",
   "execution_count": null,
   "id": "cf26037d",
   "metadata": {},
   "outputs": [],
   "source": []
  }
 ],
 "metadata": {
  "kernelspec": {
   "display_name": "Python 3 (ipykernel)",
   "language": "python",
   "name": "python3"
  },
  "language_info": {
   "codemirror_mode": {
    "name": "ipython",
    "version": 3
   },
   "file_extension": ".py",
   "mimetype": "text/x-python",
   "name": "python",
   "nbconvert_exporter": "python",
   "pygments_lexer": "ipython3",
   "version": "3.10.9"
  }
 },
 "nbformat": 4,
 "nbformat_minor": 5
}
