{
 "cells": [
  {
   "cell_type": "code",
   "execution_count": 1,
   "id": "228e0a91",
   "metadata": {},
   "outputs": [
    {
     "name": "stdout",
     "output_type": "stream",
     "text": [
      "enter the series:1, 2, 3, 4, 5, 6, 7, 8, 9\n",
      "number of even numbers in the series: 4\n",
      "number of odd numbers in the series: 5\n"
     ]
    }
   ],
   "source": [
    "# Write a Python program to count the number of even and odd numbers from a \n",
    "#  series of numbers.\n",
    "\n",
    "\n",
    "series=eval(input(\"enter the series:\"))\n",
    "count_even=0\n",
    "count_odd=0\n",
    "for i in series:\n",
    "    if i%2==0:\n",
    "        count_even+=1\n",
    "    else:\n",
    "        count_odd+=1\n",
    "print(\"number of even numbers in the series:\",count_even)\n",
    "print(\"number of odd numbers in the series:\",count_odd)\n"
   ]
  },
  {
   "cell_type": "code",
   "execution_count": null,
   "id": "97f82ab5",
   "metadata": {},
   "outputs": [],
   "source": []
  }
 ],
 "metadata": {
  "kernelspec": {
   "display_name": "Python 3 (ipykernel)",
   "language": "python",
   "name": "python3"
  },
  "language_info": {
   "codemirror_mode": {
    "name": "ipython",
    "version": 3
   },
   "file_extension": ".py",
   "mimetype": "text/x-python",
   "name": "python",
   "nbconvert_exporter": "python",
   "pygments_lexer": "ipython3",
   "version": "3.11.4"
  }
 },
 "nbformat": 4,
 "nbformat_minor": 5
}
